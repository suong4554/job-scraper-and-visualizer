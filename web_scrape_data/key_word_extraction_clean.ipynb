{
 "cells": [
  {
   "cell_type": "code",
   "execution_count": 1,
   "id": "b6be00e2",
   "metadata": {},
   "outputs": [],
   "source": [
    "import pandas as pd\n",
    "import os\n",
    "import json\n",
    "from key_word_extraction import *"
   ]
  },
  {
   "cell_type": "code",
   "execution_count": 2,
   "id": "98073391",
   "metadata": {},
   "outputs": [],
   "source": [
    "dir_path = os.path.dirname(os.path.realpath(\"__file__\"))\n",
    "json_result = {}"
   ]
  },
  {
   "cell_type": "code",
   "execution_count": 3,
   "id": "8703bf53",
   "metadata": {},
   "outputs": [
    {
     "data": {
      "text/plain": [
       "['/home/ec2-user/web_scrape_data/data_6_24_boston.json',\n",
       " '/home/ec2-user/web_scrape_data/data_6_24_chicago.json',\n",
       " '/home/ec2-user/web_scrape_data/data_6_24_dc.json',\n",
       " '/home/ec2-user/web_scrape_data/data_6_24_ny.json',\n",
       " '/home/ec2-user/web_scrape_data/data_6_24_seattle.json',\n",
       " '/home/ec2-user/web_scrape_data/data_6_24_sf.json']"
      ]
     },
     "execution_count": 3,
     "metadata": {},
     "output_type": "execute_result"
    }
   ],
   "source": [
    "import os\n",
    "file_names = []\n",
    "for file in os.listdir(dir_path):\n",
    "    if file.endswith(\".json\") and \"company_breakdown\" not in file and \"job_skill_distribution\" not in file and \"company_skill_distribution\" not in file and \"city_job_distribution\" not in file:\n",
    "        file_names.append(os.path.join(dir_path, file))\n",
    "        \n",
    "file_names"
   ]
  },
  {
   "cell_type": "code",
   "execution_count": 4,
   "id": "9c4411b5",
   "metadata": {},
   "outputs": [],
   "source": [
    "def get_job_details_city(df):\n",
    "    jobs = df.shape[0]\n",
    "    "
   ]
  },
  {
   "cell_type": "code",
   "execution_count": 5,
   "id": "3dd0b06b",
   "metadata": {},
   "outputs": [],
   "source": [
    "total_series = []\n",
    "total_df = []\n",
    "\n",
    "job_details_city = {}\n",
    "\n",
    "for file in file_names:\n",
    "\n",
    "    city = file.split(\"_\")[-1].split(\".\")[0]\n",
    "    df = pd.read_json(file, orient=\"records\")\n",
    "    df = df.dropna(subset=[\"details\"])\n",
    "    raw_result = extract_key_word_count(df)\n",
    "    \n",
    "    #Get number of jobs listed per city\n",
    "    job_details_city[city] = df.shape[0]\n",
    "    \n",
    "    #used for getting company and skill distribution\n",
    "    raw_result[\"city\"] = city\n",
    "    raw_result = raw_result.drop(columns=[\"details\"])\n",
    "    total_df.append(raw_result)\n",
    "    \n",
    "    #Get key words distribution\n",
    "    result = raw_result.skill.value_counts()\n",
    "    total_series.append(result)\n",
    "    json_result[city] = result.to_dict()\n",
    "    \n",
    "total_result = total_series[0]\n",
    "total_series.pop()\n",
    "for series in total_series:\n",
    "    total_result = total_result.add(series, fill_value=0)\n",
    "json_result[\"total\"] = total_result.to_dict()   "
   ]
  },
  {
   "cell_type": "code",
   "execution_count": 6,
   "id": "798c7970",
   "metadata": {},
   "outputs": [
    {
     "data": {
      "text/html": [
       "<div>\n",
       "<style scoped>\n",
       "    .dataframe tbody tr th:only-of-type {\n",
       "        vertical-align: middle;\n",
       "    }\n",
       "\n",
       "    .dataframe tbody tr th {\n",
       "        vertical-align: top;\n",
       "    }\n",
       "\n",
       "    .dataframe thead th {\n",
       "        text-align: right;\n",
       "    }\n",
       "</style>\n",
       "<table border=\"1\" class=\"dataframe\">\n",
       "  <thead>\n",
       "    <tr style=\"text-align: right;\">\n",
       "      <th></th>\n",
       "      <th>companyName</th>\n",
       "      <th>date</th>\n",
       "      <th>details</th>\n",
       "      <th>location</th>\n",
       "      <th>rating</th>\n",
       "      <th>summary</th>\n",
       "      <th>title</th>\n",
       "      <th>url</th>\n",
       "    </tr>\n",
       "  </thead>\n",
       "  <tbody>\n",
       "    <tr>\n",
       "      <th>0</th>\n",
       "      <td>Pinterest</td>\n",
       "      <td>8 days ago</td>\n",
       "      <td>About Pinterest:\\nMillions of people across th...</td>\n",
       "      <td>San Francisco, CA 94103 (South of Market area)</td>\n",
       "      <td>4.2</td>\n",
       "      <td>5+ years of leadership experience managing a t...</td>\n",
       "      <td>Head of Analytics and Data Science, Monetization</td>\n",
       "      <td>https://www.indeed.com/viewjob?jk=cee3b86d39e0...</td>\n",
       "    </tr>\n",
       "    <tr>\n",
       "      <th>1</th>\n",
       "      <td>NaN</td>\n",
       "      <td>30+ days ago</td>\n",
       "      <td>August 31, 2018\\nData scientist\\nJob Requireme...</td>\n",
       "      <td>San Francisco, CA</td>\n",
       "      <td>NaN</td>\n",
       "      <td>(Ability to write functions, clean and efficie...</td>\n",
       "      <td>Data scientist</td>\n",
       "      <td>https://www.indeed.com/viewjob?jk=cae371ba7263...</td>\n",
       "    </tr>\n",
       "    <tr>\n",
       "      <th>2</th>\n",
       "      <td>Seneca Family of Agencies</td>\n",
       "      <td>9 days ago</td>\n",
       "      <td>Overview:\\n\\nThe Data Analyst supports the dat...</td>\n",
       "      <td>Oakland, CA 94601 (Harrington area)</td>\n",
       "      <td>4.2</td>\n",
       "      <td>Applying basic statistical concepts and data v...</td>\n",
       "      <td>Data Analyst</td>\n",
       "      <td>https://www.indeed.com/viewjob?jk=81a6c658e9e3...</td>\n",
       "    </tr>\n",
       "    <tr>\n",
       "      <th>3</th>\n",
       "      <td>University of California Berkeley</td>\n",
       "      <td>30+ days ago</td>\n",
       "      <td>Data Scientist (0499U) 17919 About Berkeley\\n\\...</td>\n",
       "      <td>Berkeley, CA 94720</td>\n",
       "      <td>4.2</td>\n",
       "      <td>Demonstrated experience with data mining, mach...</td>\n",
       "      <td>Data Scientist (0499U) 17919</td>\n",
       "      <td>https://www.indeed.com/viewjob?jk=89058aed18d4...</td>\n",
       "    </tr>\n",
       "    <tr>\n",
       "      <th>4</th>\n",
       "      <td>Allscripts</td>\n",
       "      <td>10 days ago</td>\n",
       "      <td>Welcome to Allscripts! Our Mission is to be th...</td>\n",
       "      <td>San Francisco, CA</td>\n",
       "      <td>3.6</td>\n",
       "      <td>2+ years of experience in a data analytics rol...</td>\n",
       "      <td>Real-World Evidence Data Analyst - Life Scienc...</td>\n",
       "      <td>https://www.indeed.com/viewjob?jk=863bc3bc75e9...</td>\n",
       "    </tr>\n",
       "  </tbody>\n",
       "</table>\n",
       "</div>"
      ],
      "text/plain": [
       "                         companyName          date  \\\n",
       "0                          Pinterest    8 days ago   \n",
       "1                                NaN  30+ days ago   \n",
       "2          Seneca Family of Agencies    9 days ago   \n",
       "3  University of California Berkeley  30+ days ago   \n",
       "4                         Allscripts   10 days ago   \n",
       "\n",
       "                                             details  \\\n",
       "0  About Pinterest:\\nMillions of people across th...   \n",
       "1  August 31, 2018\\nData scientist\\nJob Requireme...   \n",
       "2  Overview:\\n\\nThe Data Analyst supports the dat...   \n",
       "3  Data Scientist (0499U) 17919 About Berkeley\\n\\...   \n",
       "4  Welcome to Allscripts! Our Mission is to be th...   \n",
       "\n",
       "                                         location  rating  \\\n",
       "0  San Francisco, CA 94103 (South of Market area)     4.2   \n",
       "1                               San Francisco, CA     NaN   \n",
       "2             Oakland, CA 94601 (Harrington area)     4.2   \n",
       "3                              Berkeley, CA 94720     4.2   \n",
       "4                               San Francisco, CA     3.6   \n",
       "\n",
       "                                             summary  \\\n",
       "0  5+ years of leadership experience managing a t...   \n",
       "1  (Ability to write functions, clean and efficie...   \n",
       "2  Applying basic statistical concepts and data v...   \n",
       "3  Demonstrated experience with data mining, mach...   \n",
       "4  2+ years of experience in a data analytics rol...   \n",
       "\n",
       "                                               title  \\\n",
       "0   Head of Analytics and Data Science, Monetization   \n",
       "1                                     Data scientist   \n",
       "2                                       Data Analyst   \n",
       "3                       Data Scientist (0499U) 17919   \n",
       "4  Real-World Evidence Data Analyst - Life Scienc...   \n",
       "\n",
       "                                                 url  \n",
       "0  https://www.indeed.com/viewjob?jk=cee3b86d39e0...  \n",
       "1  https://www.indeed.com/viewjob?jk=cae371ba7263...  \n",
       "2  https://www.indeed.com/viewjob?jk=81a6c658e9e3...  \n",
       "3  https://www.indeed.com/viewjob?jk=89058aed18d4...  \n",
       "4  https://www.indeed.com/viewjob?jk=863bc3bc75e9...  "
      ]
     },
     "execution_count": 6,
     "metadata": {},
     "output_type": "execute_result"
    }
   ],
   "source": [
    "df.head()"
   ]
  },
  {
   "cell_type": "markdown",
   "id": "b761c783",
   "metadata": {},
   "source": [
    "#### Key Word Distribution Save"
   ]
  },
  {
   "cell_type": "code",
   "execution_count": 7,
   "id": "982ce7b2",
   "metadata": {},
   "outputs": [],
   "source": [
    "with open(dir_path + \"/\" + \"job_skill_distribution.json\", \"w\") as file:\n",
    "    file.write(json.dumps(json_result, indent=4, sort_keys=True))\n",
    "    \n",
    "with open(\"/var/www/html/data/\" + \"job_skill_distribution.json\", \"w\") as file:\n",
    "    file.write(json.dumps(json_result, indent=4, sort_keys=True))"
   ]
  },
  {
   "cell_type": "markdown",
   "id": "930bdfd2",
   "metadata": {},
   "source": [
    "#### Number of jobs listed per city Save"
   ]
  },
  {
   "cell_type": "code",
   "execution_count": 8,
   "id": "23c4b419",
   "metadata": {},
   "outputs": [],
   "source": [
    "with open(dir_path + \"/\" + \"city_job_distribution.json\", \"w\") as file:\n",
    "    file.write(json.dumps(job_details_city, indent=4, sort_keys=True))\n",
    "    \n",
    "with open(\"/var/www/html/data/\" + \"city_job_distribution.json\", \"w\") as file:\n",
    "    file.write(json.dumps(job_details_city, indent=4, sort_keys=True))"
   ]
  },
  {
   "cell_type": "markdown",
   "id": "86286751",
   "metadata": {},
   "source": [
    "#### Company Skill DF"
   ]
  },
  {
   "cell_type": "code",
   "execution_count": 9,
   "id": "ac0fad56",
   "metadata": {},
   "outputs": [],
   "source": [
    "total_df = pd.concat(total_df)\n",
    "comapny_skill_dict = extract_company(total_df)\n",
    "\n",
    "\n",
    "with open(dir_path + \"/\" + \"company_skill_distribution.json\", \"w\") as file:\n",
    "    file.write(json.dumps(comapny_skill_dict, indent=4, sort_keys=True))\n",
    "    \n",
    "with open(\"/var/www/html/data/\" + \"company_skill_distribution.json\", \"w\") as file:\n",
    "    file.write(json.dumps(comapny_skill_dict, indent=4, sort_keys=True))"
   ]
  },
  {
   "cell_type": "markdown",
   "id": "eef3bd76",
   "metadata": {},
   "source": [
    "### company Breakdown"
   ]
  },
  {
   "cell_type": "code",
   "execution_count": 10,
   "id": "bb060761",
   "metadata": {},
   "outputs": [],
   "source": [
    "total_df = total_df.drop(columns=[\"skill\"]).drop_duplicates()\n",
    "company_breakdown = total_df.companyName.value_counts().to_dict()"
   ]
  },
  {
   "cell_type": "code",
   "execution_count": 11,
   "id": "ff920be0",
   "metadata": {},
   "outputs": [],
   "source": [
    "with open(dir_path + \"/\" + \"company_breakdown.json\", \"w\") as file:\n",
    "    file.write(json.dumps(company_breakdown, indent=4, sort_keys=True))\n",
    "    \n",
    "with open(\"/var/www/html/data/\" + \"company_breakdown.json\", \"w\") as file:\n",
    "    file.write(json.dumps(company_breakdown, indent=4, sort_keys=True))"
   ]
  },
  {
   "cell_type": "code",
   "execution_count": null,
   "id": "ff271809",
   "metadata": {},
   "outputs": [],
   "source": []
  }
 ],
 "metadata": {
  "kernelspec": {
   "display_name": "Python 3",
   "language": "python",
   "name": "python3"
  },
  "language_info": {
   "codemirror_mode": {
    "name": "ipython",
    "version": 3
   },
   "file_extension": ".py",
   "mimetype": "text/x-python",
   "name": "python",
   "nbconvert_exporter": "python",
   "pygments_lexer": "ipython3",
   "version": "3.7.9"
  }
 },
 "nbformat": 4,
 "nbformat_minor": 5
}
