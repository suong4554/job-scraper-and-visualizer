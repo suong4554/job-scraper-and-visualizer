{
 "cells": [
  {
   "cell_type": "code",
   "execution_count": 1,
   "id": "b6be00e2",
   "metadata": {},
   "outputs": [],
   "source": [
    "import pandas as pd\n",
    "import os\n",
    "import json\n",
    "from key_word_extraction import *"
   ]
  },
  {
   "cell_type": "code",
   "execution_count": 2,
   "id": "98073391",
   "metadata": {},
   "outputs": [],
   "source": [
    "dir_path = os.path.dirname(os.path.realpath(\"__file__\"))\n",
    "json_result = {}"
   ]
  },
  {
   "cell_type": "code",
   "execution_count": 3,
   "id": "8703bf53",
   "metadata": {},
   "outputs": [
    {
     "data": {
      "text/plain": [
       "['/home/ec2-user/web_scrape_data/data_6_24_boston.json',\n",
       " '/home/ec2-user/web_scrape_data/data_6_24_chicago.json',\n",
       " '/home/ec2-user/web_scrape_data/data_6_24_dc.json',\n",
       " '/home/ec2-user/web_scrape_data/data_6_24_ny.json',\n",
       " '/home/ec2-user/web_scrape_data/data_6_24_seattle.json',\n",
       " '/home/ec2-user/web_scrape_data/data_6_24_sf.json']"
      ]
     },
     "execution_count": 3,
     "metadata": {},
     "output_type": "execute_result"
    }
   ],
   "source": [
    "import os\n",
    "file_names = []\n",
    "for file in os.listdir(dir_path):\n",
    "    if file.endswith(\".json\") and \"company_breakdown\" not in file and \"job_skill_distribution\" not in file and \"company_skill_distribution\" not in file and \"city_job_distribution\" not in file:\n",
    "        file_names.append(os.path.join(dir_path, file))\n",
    "        \n",
    "file_names"
   ]
  },
  {
   "cell_type": "code",
   "execution_count": 4,
   "id": "106a5965",
   "metadata": {},
   "outputs": [],
   "source": [
    "def get_job_details_city(df):\n",
    "    jobs = df.shape[0]\n",
    "    "
   ]
  },
  {
   "cell_type": "code",
   "execution_count": 5,
   "id": "3dd0b06b",
   "metadata": {},
   "outputs": [],
   "source": [
    "total_series = []\n",
    "total_df = []\n",
    "\n",
    "job_details_city = {}\n",
    "\n",
    "for file in file_names:\n",
    "\n",
    "    city = file.split(\"_\")[-1].split(\".\")[0]\n",
    "    df = pd.read_json(file, orient=\"records\")\n",
    "    df = df.dropna(subset=[\"details\"])\n",
    "    raw_result = extract_key_word_count(df)\n",
    "    \n",
    "    #Get number of jobs listed per city\n",
    "    job_details_city[city] = df.shape[0]\n",
    "    \n",
    "    #used for getting company and skill distribution\n",
    "    total_df.append(raw_result)\n",
    "    \n",
    "    #Get key words distribution\n",
    "    result = raw_result.skill.value_counts()\n",
    "    total_series.append(result)\n",
    "    json_result[city] = result.to_dict()\n",
    "    \n",
    "total_result = total_series[0]\n",
    "total_series.pop()\n",
    "for series in total_series:\n",
    "    total_result = total_result.add(series, fill_value=0)\n",
    "json_result[\"total\"] = total_result.to_dict()   "
   ]
  },
  {
   "cell_type": "markdown",
   "id": "eb954552",
   "metadata": {},
   "source": [
    "#### Key Word Distribution Save"
   ]
  },
  {
   "cell_type": "code",
   "execution_count": 6,
   "id": "c6271df0",
   "metadata": {},
   "outputs": [],
   "source": [
    "with open(dir_path + \"/\" + \"job_skill_distribution.json\", \"w\") as file:\n",
    "    file.write(json.dumps(json_result, indent=4, sort_keys=True))\n",
    "    \n",
    "with open(\"/var/www/html/data/\" + \"job_skill_distribution.json\", \"w\") as file:\n",
    "    file.write(json.dumps(json_result, indent=4, sort_keys=True))"
   ]
  },
  {
   "cell_type": "markdown",
   "id": "96c6d2da",
   "metadata": {},
   "source": [
    "#### Number of jobs listed per city Save"
   ]
  },
  {
   "cell_type": "code",
   "execution_count": 7,
   "id": "58d89b4c",
   "metadata": {},
   "outputs": [],
   "source": [
    "with open(dir_path + \"/\" + \"city_job_distribution.json\", \"w\") as file:\n",
    "    file.write(json.dumps(job_details_city, indent=4, sort_keys=True))\n",
    "    \n",
    "with open(\"/var/www/html/data/\" + \"city_job_distribution.json\", \"w\") as file:\n",
    "    file.write(json.dumps(job_details_city, indent=4, sort_keys=True))"
   ]
  },
  {
   "cell_type": "markdown",
   "id": "54ebcf17",
   "metadata": {},
   "source": [
    "#### Company Skill DF"
   ]
  },
  {
   "cell_type": "code",
   "execution_count": 8,
   "id": "ac0fad56",
   "metadata": {},
   "outputs": [],
   "source": [
    "total_df = pd.concat(total_df)\n",
    "comapny_skill_dict = extract_company(total_df)\n",
    "\n",
    "\n",
    "with open(dir_path + \"/\" + \"company_skill_distribution.json\", \"w\") as file:\n",
    "    file.write(json.dumps(comapny_skill_dict, indent=4, sort_keys=True))\n",
    "    \n",
    "with open(\"/var/www/html/data/\" + \"company_skill_distribution.json\", \"w\") as file:\n",
    "    file.write(json.dumps(comapny_skill_dict, indent=4, sort_keys=True))"
   ]
  },
  {
   "cell_type": "markdown",
   "id": "59c4bfd7",
   "metadata": {},
   "source": [
    "### company Breakdown"
   ]
  },
  {
   "cell_type": "code",
   "execution_count": 9,
   "id": "bb060761",
   "metadata": {},
   "outputs": [],
   "source": [
    "total_df = total_df.drop(columns=[\"skill\"]).drop_duplicates()\n",
    "company_breakdown = total_df.companyName.value_counts().to_dict()"
   ]
  },
  {
   "cell_type": "code",
   "execution_count": 10,
   "id": "4726dfd1",
   "metadata": {},
   "outputs": [],
   "source": [
    "with open(dir_path + \"/\" + \"company_breakdown.json\", \"w\") as file:\n",
    "    file.write(json.dumps(company_breakdown, indent=4, sort_keys=True))\n",
    "    \n",
    "with open(\"/var/www/html/data/\" + \"company_breakdown.json\", \"w\") as file:\n",
    "    file.write(json.dumps(company_breakdown, indent=4, sort_keys=True))"
   ]
  },
  {
   "cell_type": "code",
   "execution_count": null,
   "id": "2464ec00",
   "metadata": {},
   "outputs": [],
   "source": []
  }
 ],
 "metadata": {
  "kernelspec": {
   "display_name": "Python 3",
   "language": "python",
   "name": "python3"
  },
  "language_info": {
   "codemirror_mode": {
    "name": "ipython",
    "version": 3
   },
   "file_extension": ".py",
   "mimetype": "text/x-python",
   "name": "python",
   "nbconvert_exporter": "python",
   "pygments_lexer": "ipython3",
   "version": "3.7.9"
  }
 },
 "nbformat": 4,
 "nbformat_minor": 5
}
