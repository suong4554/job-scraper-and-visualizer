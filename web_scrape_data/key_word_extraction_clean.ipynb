{
 "cells": [
  {
   "cell_type": "code",
   "execution_count": 1,
   "id": "b6be00e2",
   "metadata": {},
   "outputs": [],
   "source": [
    "import pandas as pd\n",
    "import os\n",
    "import json\n",
    "from key_word_extraction import *"
   ]
  },
  {
   "cell_type": "code",
   "execution_count": 2,
   "id": "98073391",
   "metadata": {},
   "outputs": [],
   "source": [
    "dir_path = os.path.dirname(os.path.realpath(\"__file__\"))\n",
    "json_result = {}"
   ]
  },
  {
   "cell_type": "code",
   "execution_count": 5,
   "id": "8703bf53",
   "metadata": {},
   "outputs": [
    {
     "data": {
      "text/plain": [
       "['/home/ec2-user/web_scrape_data/data_6_24_boston.json',\n",
       " '/home/ec2-user/web_scrape_data/data_6_24_chicago.json',\n",
       " '/home/ec2-user/web_scrape_data/data_6_24_dc.json',\n",
       " '/home/ec2-user/web_scrape_data/data_6_24_ny.json',\n",
       " '/home/ec2-user/web_scrape_data/data_6_24_seattle.json',\n",
       " '/home/ec2-user/web_scrape_data/data_6_24_sf.json']"
      ]
     },
     "execution_count": 5,
     "metadata": {},
     "output_type": "execute_result"
    }
   ],
   "source": [
    "import os\n",
    "file_names = []\n",
    "for file in os.listdir(dir_path):\n",
    "    if file.endswith(\".json\") and \"job_skill_distribution\" not in file:\n",
    "        file_names.append(os.path.join(dir_path, file))\n",
    "        \n",
    "file_names"
   ]
  },
  {
   "cell_type": "code",
   "execution_count": 6,
   "id": "3dd0b06b",
   "metadata": {},
   "outputs": [],
   "source": [
    "total_series = []\n",
    "for file in file_names:\n",
    "\n",
    "    city = file.split(\"_\")[-1].split(\".\")[0]\n",
    "    df = pd.read_json(file, orient=\"records\")\n",
    "    df = df.dropna(subset=[\"details\"])\n",
    "    result = extract_key_word_count(df).skill.value_counts()\n",
    "    total_series.append(result)\n",
    "    json_result[city] = result.to_dict()\n",
    "    \n",
    "total_result = total_series[0]\n",
    "total_series.pop()\n",
    "for series in total_series:\n",
    "    total_result = total_result.add(series, fill_value=0)\n",
    "json_result[\"total\"] = total_result.to_dict()   "
   ]
  },
  {
   "cell_type": "code",
   "execution_count": 8,
   "id": "f99467bf",
   "metadata": {},
   "outputs": [],
   "source": [
    " "
   ]
  },
  {
   "cell_type": "code",
   "execution_count": 9,
   "id": "71f5a312",
   "metadata": {},
   "outputs": [],
   "source": [
    "with open(dir_path + \"/\" + \"job_skill_distribution.json\", \"w\") as file:\n",
    "    file.write(json.dumps(json_result, indent=4, sort_keys=True))"
   ]
  },
  {
   "cell_type": "code",
   "execution_count": null,
   "id": "e44d005a",
   "metadata": {},
   "outputs": [],
   "source": []
  }
 ],
 "metadata": {
  "kernelspec": {
   "display_name": "Python 3",
   "language": "python",
   "name": "python3"
  },
  "language_info": {
   "codemirror_mode": {
    "name": "ipython",
    "version": 3
   },
   "file_extension": ".py",
   "mimetype": "text/x-python",
   "name": "python",
   "nbconvert_exporter": "python",
   "pygments_lexer": "ipython3",
   "version": "3.7.9"
  }
 },
 "nbformat": 4,
 "nbformat_minor": 5
}
