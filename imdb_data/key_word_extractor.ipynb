{
 "cells": [
  {
   "cell_type": "code",
   "execution_count": 1,
   "id": "91c390f1",
   "metadata": {},
   "outputs": [],
   "source": [
    "import pandas as pd\n",
    "import os\n",
    "\n",
    "import spacy \n",
    "import subprocess\n",
    "from string import punctuation\n",
    "\n",
    "from rake_nltk import Rake"
   ]
  },
  {
   "cell_type": "code",
   "execution_count": 2,
   "id": "e22df346",
   "metadata": {},
   "outputs": [],
   "source": [
    "def rake_implement(x,r):\n",
    "    r.extract_keywords_from_text(x)\n",
    "    return r.get_ranked_phrases()"
   ]
  },
  {
   "cell_type": "code",
   "execution_count": 3,
   "id": "381978bd",
   "metadata": {},
   "outputs": [],
   "source": [
    "def get_hotwords(nlp, text):\n",
    "    result = []\n",
    "    pos_tag = ['PROPN', 'ADJ', 'NOUN'] # 1\n",
    "    doc = nlp(text.lower()) # 2\n",
    "    for token in doc:\n",
    "        # 3\n",
    "        if(token.text in nlp.Defaults.stop_words or token.text in punctuation):\n",
    "            continue\n",
    "        # 4\n",
    "        if(token.pos_ in pos_tag):\n",
    "            result.append(token.text)\n",
    "\n",
    "    return result # 5"
   ]
  },
  {
   "cell_type": "code",
   "execution_count": 4,
   "id": "cdb8585c",
   "metadata": {},
   "outputs": [
    {
     "name": "stderr",
     "output_type": "stream",
     "text": [
      "/usr/local/lib/python3.7/site-packages/IPython/core/interactiveshell.py:3170: DtypeWarning: Columns (3) have mixed types.Specify dtype option on import or set low_memory=False.\n",
      "  interactivity=interactivity, compiler=compiler, result=result)\n"
     ]
    }
   ],
   "source": [
    "dir_path = os.path.dirname(os.path.realpath(\"__file__\"))\n",
    "df = pd.read_csv(dir_path + \"/IMDb movies.csv\")"
   ]
  },
  {
   "cell_type": "code",
   "execution_count": 5,
   "id": "00471dd3",
   "metadata": {},
   "outputs": [],
   "source": [
    "df.description = df.description.astype(str)"
   ]
  },
  {
   "cell_type": "code",
   "execution_count": 6,
   "id": "206a0691",
   "metadata": {},
   "outputs": [],
   "source": [
    "df_nltk = df.copy()\n",
    "r = Rake()\n",
    "df_nltk[\"key_words\"] = df_nltk[\"description\"].apply(lambda x: rake_implement(x,r))"
   ]
  },
  {
   "cell_type": "code",
   "execution_count": 7,
   "id": "a506285a",
   "metadata": {},
   "outputs": [
    {
     "data": {
      "text/plain": [
       "0                 [female reporter, adventures, 1890s]\n",
       "1    [notorious australian outlaw ned kelly, true s...\n",
       "2    [accepts count von waldberg, famous equestrian...\n",
       "3    [roman general marc antony, ultimately disastr...\n",
       "4    [original silent film, tangerine dream, new sc...\n",
       "Name: key_words, dtype: object"
      ]
     },
     "execution_count": 7,
     "metadata": {},
     "output_type": "execute_result"
    }
   ],
   "source": [
    "df_nltk.key_words.head()"
   ]
  },
  {
   "cell_type": "code",
   "execution_count": 8,
   "id": "74b0e33c",
   "metadata": {},
   "outputs": [],
   "source": [
    "temp = df_nltk.director.value_counts() "
   ]
  },
  {
   "cell_type": "code",
   "execution_count": 9,
   "id": "b31ee59c",
   "metadata": {
    "scrolled": true
   },
   "outputs": [
    {
     "data": {
      "text/plain": [
       "(3047,)"
      ]
     },
     "execution_count": 9,
     "metadata": {},
     "output_type": "execute_result"
    }
   ],
   "source": [
    "temp[temp > 5].shape"
   ]
  },
  {
   "cell_type": "markdown",
   "id": "bb9c11c3",
   "metadata": {},
   "source": [
    "### Distribution based on year"
   ]
  },
  {
   "cell_type": "code",
   "execution_count": 10,
   "id": "c3ef74e2",
   "metadata": {
    "scrolled": true
   },
   "outputs": [],
   "source": [
    "exploded = pd.concat([pd.Series(row['title'],  row['genre'].split(', ')) for _, row in df_nltk.iterrows()]).reset_index()"
   ]
  },
  {
   "cell_type": "code",
   "execution_count": 35,
   "id": "d418a40f",
   "metadata": {},
   "outputs": [],
   "source": [
    "exploded.columns = [\"genre\", \"title\"]\n",
    "df_nltk = df_nltk.drop([\"genre\"], axis=1)\n",
    "df_genre = exploded.merge(df_nltk, left_on=\"title\", right_on=\"title\")"
   ]
  },
  {
   "cell_type": "code",
   "execution_count": 36,
   "id": "c0d5bd33",
   "metadata": {},
   "outputs": [],
   "source": [
    "df_genre['year'] = df_genre['year'].str.extract('(\\d+)', expand=False)\n",
    "df_genre = df_genre.dropna(subset=[\"year\"])\n",
    "df_genre.year = df_genre.year.astype(int)"
   ]
  },
  {
   "cell_type": "code",
   "execution_count": 52,
   "id": "7446a159",
   "metadata": {},
   "outputs": [],
   "source": [
    "new = df_genre[df_genre.year >= 2010]\n",
    "med = df_genre[(df_genre.year < 2010) & (df_genre.year >= 1980)]\n",
    "old = df_genre[(df_genre.year < 1980) ]"
   ]
  },
  {
   "cell_type": "code",
   "execution_count": 53,
   "id": "e89ca5ea",
   "metadata": {},
   "outputs": [],
   "source": [
    "df_genre[\"rounded_vote\"] = df_genre[\"avg_vote\"].round()"
   ]
  },
  {
   "cell_type": "code",
   "execution_count": 54,
   "id": "3bae85b6",
   "metadata": {},
   "outputs": [
    {
     "data": {
      "text/plain": [
       "(44717, 24)"
      ]
     },
     "execution_count": 54,
     "metadata": {},
     "output_type": "execute_result"
    }
   ],
   "source": [
    "new.shape"
   ]
  },
  {
   "cell_type": "code",
   "execution_count": 55,
   "id": "49d7f426",
   "metadata": {},
   "outputs": [
    {
     "data": {
      "text/plain": [
       "(365, 24)"
      ]
     },
     "execution_count": 55,
     "metadata": {},
     "output_type": "execute_result"
    }
   ],
   "source": [
    "med.shape"
   ]
  },
  {
   "cell_type": "code",
   "execution_count": 56,
   "id": "ef417f5e",
   "metadata": {},
   "outputs": [
    {
     "data": {
      "text/plain": [
       "(79, 24)"
      ]
     },
     "execution_count": 56,
     "metadata": {},
     "output_type": "execute_result"
    }
   ],
   "source": [
    "old.shape"
   ]
  },
  {
   "cell_type": "code",
   "execution_count": 65,
   "id": "17bf52c8",
   "metadata": {},
   "outputs": [],
   "source": [
    "new_dict = new.genre.value_counts(normalize=True).to_dict()\n",
    "med_dict = med.genre.value_counts(normalize=True).to_dict()\n",
    "old_dict = old.genre.value_counts(normalize=True).to_dict()"
   ]
  },
  {
   "cell_type": "code",
   "execution_count": 66,
   "id": "2cd77d3a",
   "metadata": {},
   "outputs": [],
   "source": [
    "genre_dict = {\n",
    "    \"new\":new_dict,\n",
    "    \"med\":med_dict,\n",
    "    \"old\":old_dict\n",
    "}"
   ]
  },
  {
   "cell_type": "code",
   "execution_count": 67,
   "id": "e916d275",
   "metadata": {},
   "outputs": [],
   "source": [
    "new_dict = new.rounded_vote.value_counts(normalize=True).to_dict()\n",
    "med_dict = med.rounded_vote.value_counts(normalize=True).to_dict()\n",
    "old_dict = old.rounded_vote.value_counts(normalize=True).to_dict()"
   ]
  },
  {
   "cell_type": "code",
   "execution_count": 68,
   "id": "125b48f6",
   "metadata": {},
   "outputs": [],
   "source": [
    "vote_dict = {\n",
    "    \"new\":new_dict,\n",
    "    \"med\":med_dict,\n",
    "    \"old\":old_dict\n",
    "}"
   ]
  },
  {
   "cell_type": "code",
   "execution_count": 69,
   "id": "fada2532",
   "metadata": {},
   "outputs": [],
   "source": [
    "dataset = {\n",
    "    \"vote_distribution\":vote_dict,\n",
    "    \"genre_distribution\": genre_dict\n",
    "    \n",
    "}"
   ]
  },
  {
   "cell_type": "code",
   "execution_count": 70,
   "id": "37f02698",
   "metadata": {},
   "outputs": [],
   "source": [
    "import json \n",
    "\n",
    "with open(dir_path + \"/\" + \"imdb_distribution.json\", \"w\") as file:\n",
    "    file.write(json.dumps(dataset, indent=4, sort_keys=True))"
   ]
  },
  {
   "cell_type": "markdown",
   "id": "3ecea2de",
   "metadata": {},
   "source": [
    "### Ranking based on vote"
   ]
  },
  {
   "cell_type": "code",
   "execution_count": null,
   "id": "520a084a",
   "metadata": {},
   "outputs": [],
   "source": [
    "high = df_nltk[df_nltk.avg_vote >= 7]\n",
    "med = df_nltk[(df_nltk.avg_vote < 7) & (df_nltk.avg_vote >= 5)]\n",
    "low = df_nltk[(df_nltk.avg_vote < 5) ]"
   ]
  },
  {
   "cell_type": "code",
   "execution_count": null,
   "id": "41abb27c",
   "metadata": {},
   "outputs": [],
   "source": [
    "high.genre.value_counts()"
   ]
  },
  {
   "cell_type": "code",
   "execution_count": null,
   "id": "3f61799b",
   "metadata": {},
   "outputs": [],
   "source": [
    "med.director.value_counts().to_dict()"
   ]
  },
  {
   "cell_type": "code",
   "execution_count": null,
   "id": "f0c9e415",
   "metadata": {},
   "outputs": [],
   "source": []
  }
 ],
 "metadata": {
  "kernelspec": {
   "display_name": "Python 3",
   "language": "python",
   "name": "python3"
  },
  "language_info": {
   "codemirror_mode": {
    "name": "ipython",
    "version": 3
   },
   "file_extension": ".py",
   "mimetype": "text/x-python",
   "name": "python",
   "nbconvert_exporter": "python",
   "pygments_lexer": "ipython3",
   "version": "3.7.9"
  }
 },
 "nbformat": 4,
 "nbformat_minor": 5
}
