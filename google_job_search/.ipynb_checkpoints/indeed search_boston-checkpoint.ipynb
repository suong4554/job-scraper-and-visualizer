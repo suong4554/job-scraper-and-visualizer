{
 "cells": [
  {
   "cell_type": "code",
   "execution_count": 1,
   "id": "1e29e050",
   "metadata": {},
   "outputs": [],
   "source": [
    "import json\n",
    "import re\n",
    "import os\n",
    "\n",
    "import time \n",
    "import ssl\n",
    "from urllib.request import Request, urlopen\n",
    "\n",
    "\n",
    "\n",
    "from bs4 import BeautifulSoup as bs\n",
    "BASE_URL = \"https://www.indeed.com/\"\n",
    "BROWSER = 'Mozilla/89.0.1'\n",
    "PROXY_COUNT = 15"
   ]
  },
  {
   "cell_type": "code",
   "execution_count": 2,
   "id": "73f9ec58",
   "metadata": {},
   "outputs": [],
   "source": [
    "FILENAME = \"data_6_24_dc.json\"\n",
    "CITY = \"Washington DC\"\n",
    "KEYWORDS = \"data science\""
   ]
  },
  {
   "cell_type": "code",
   "execution_count": 3,
   "id": "75bef3da",
   "metadata": {},
   "outputs": [],
   "source": [
    "#ignore ssl certificate errors\n",
    "ctx = ssl.create_default_context()\n",
    "ctx.check_hostname = False\n",
    "ctx.verify_mode = ssl.CERT_NONE\n",
    "\n",
    "dir_path = os.path.dirname(os.path.realpath(\"__file__\"))"
   ]
  },
  {
   "cell_type": "code",
   "execution_count": 4,
   "id": "cd793363",
   "metadata": {},
   "outputs": [],
   "source": [
    "import requests\n",
    "from lxml.html import fromstring\n",
    "def get_proxies():\n",
    "    url = 'https://free-proxy-list.net/'\n",
    "    response = requests.get(url)\n",
    "    parser = fromstring(response.text)\n",
    "    proxies = set()\n",
    "    for i in parser.xpath('//tbody/tr')[:1000]:\n",
    "        if i.xpath('.//td[7][contains(text(),\"yes\")]'):\n",
    "            #Grabbing IP and corresponding PORT\n",
    "            proxy = \":\".join([i.xpath('.//td[1]/text()')[0], i.xpath('.//td[2]/text()')[0]])\n",
    "            proxies.add(proxy)\n",
    "    return list(proxies)"
   ]
  },
  {
   "cell_type": "code",
   "execution_count": 5,
   "id": "95113b54",
   "metadata": {},
   "outputs": [],
   "source": [
    "proxies = get_proxies()"
   ]
  },
  {
   "cell_type": "code",
   "execution_count": 6,
   "id": "16bfc84d",
   "metadata": {},
   "outputs": [],
   "source": [
    "def main():\n",
    "    name_of_city = CITY\n",
    "    keywords = KEYWORDS\n",
    "    number_of_pages = 20\n",
    "\n",
    "    #Preprocess data\n",
    "    name_of_city = name_of_city.replace(\" \", \"+\")\n",
    "    keywords = keywords.replace(\" \", \"+\")\n",
    "    number_of_pages = int(number_of_pages)\n",
    "\n",
    "    url_to_scrape = BASE_URL + \"/jobs?q=\" + keywords + \"&l=\" + name_of_city\n",
    "    data_collected = scrape_data(url_to_scrape, number_of_pages)\n",
    "\n",
    "    with open(dir_path + '/' + FILENAME, \"w\") as file:\n",
    "        json.dump(data_collected, file, sort_keys=True, indent = 4, ensure_ascii=False)"
   ]
  },
  {
   "cell_type": "code",
   "execution_count": 7,
   "id": "febc5cdb",
   "metadata": {},
   "outputs": [],
   "source": [
    "def scrape_data(url, number_of_pages):\n",
    "    data_collected = []\n",
    "    \n",
    "    PROXY_COUNT = 15\n",
    "    for i in range(number_of_pages):\n",
    "        proxy = proxies[PROXY_COUNT]\n",
    "        PROXY_COUNT += 1\n",
    "        if PROXY_COUNT >= len(proxies):\n",
    "            PROXY_COUNT= 0 \n",
    "        extension = \"\"\n",
    "        if i is not 0:\n",
    "            extension = \"&start=\" + str(i*10)\n",
    "            url_added = url + extension\n",
    "            print(url_added)\n",
    "            \n",
    "            pass_crit = True\n",
    "            web_page = \"\"\n",
    "            temp_count = 0\n",
    "            while(pass_crit or temp_count ==len(proxies) + 5):\n",
    "                temp_count +=1\n",
    "                try:\n",
    "                    web_page = requests.get(url_added,proxies={\"http\": proxy, \"https\": proxy})\n",
    "                    pass_crit = False\n",
    "                except:\n",
    "                    proxy = proxies[PROXY_COUNT]\n",
    "                    PROXY_COUNT += 1\n",
    "                    if PROXY_COUNT >= len(proxies):\n",
    "                        PROXY_COUNT= 0 \n",
    "                    \n",
    "            data_raw = bs(web_page.text, 'html.parser')\n",
    "            data_collected = get_data_html(data_collected, data_raw, PROXY_COUNT)\n",
    "            time.sleep(.5)\n",
    "            with open(dir_path + '/' + FILENAME, \"w\") as file:\n",
    "                json.dump(data_collected, file, sort_keys=True, indent = 4, ensure_ascii=False)\n",
    "\n",
    "    return data_collected\n",
    "\n",
    "\n",
    "def get_data_html(data_collected, data_raw, PROXY_COUNT):\n",
    "    job_posts = []\n",
    "    for div in data_raw.findAll('div', attrs={'class':'jobsearch-SerpJobCard unifiedRow row result'}):\n",
    "        job = dict()\n",
    "        job = extract_data_points(job, div)\n",
    "        job_posts.append(div['data-jk'])\n",
    "        single_job_post_extension_url = \"https://www.indeed.com/viewjob?jk=\" + div['data-jk']\n",
    "        job['url'] = single_job_post_extension_url\n",
    "        \n",
    "        pass_crit = True\n",
    "        web_page = \"\"\n",
    "        temp_count= 0\n",
    "        while(pass_crit or temp_count ==len(proxies) + 5):\n",
    "            temp_count +=1\n",
    "            try:\n",
    "                web_page = requests.get(single_job_post_extension_url,proxies={\"http\": proxy, \"https\": proxy})\n",
    "                pass_crit = False\n",
    "            except:\n",
    "                proxy = proxies[PROXY_COUNT]\n",
    "                PROXY_COUNT += 1\n",
    "                if PROXY_COUNT >= len(proxies):\n",
    "                    PROXY_COUNT= 0 \n",
    "        \n",
    "        job_raw = bs(web_page.text, 'html.parser')\n",
    "        for inside_div in job_raw.findAll('div', attrs={\"class\": \"jobsearch-jobDescriptionText\"}):\n",
    "            \n",
    "            details = inside_div.text.strip()\n",
    "            job[\"details\"] = details.replace(\" +\", \"\")\n",
    "        data_collected.append(job)\n",
    "    return data_collected\n",
    "\n",
    "\n",
    "def extract_data_points(job, div):\n",
    "    for a in div.findAll('a', attrs={\"class\": \"jobtitle turnstileLink\"}):\n",
    "        job['title'] = a['title']\n",
    "    for a1 in div.findAll('a', attrs={\"data-tn-element\": \"companyName\"}):\n",
    "        job['companyName'] = a1.text.strip()\n",
    "    for span in div.findAll('span', attrs={\"class\": \"ratingsContent\"}):\n",
    "        job['rating'] = span.text.strip()\n",
    "    for span1 in div.findAll('span', attrs={\"class\": \"location accessible-contrast-color-location\"}):\n",
    "        job['location'] = span1.text.strip()\n",
    "    for div1 in div.findAll('div', attrs={\"class\": \"summary\"}):\n",
    "        summary = div1.text.strip()\n",
    "        job['summary'] = summary.replace(' +', \"\")\n",
    "    for span2 in div.findAll('span', attrs={'class':'date'}):\n",
    "        job['date'] = span2.text.strip()\n",
    "    return job"
   ]
  },
  {
   "cell_type": "code",
   "execution_count": null,
   "id": "7ee271ff",
   "metadata": {},
   "outputs": [
    {
     "name": "stdout",
     "output_type": "stream",
     "text": [
      "https://www.indeed.com//jobs?q=data+science&l=Washington+DC&start=10\n",
      "https://www.indeed.com//jobs?q=data+science&l=Washington+DC&start=20\n",
      "https://www.indeed.com//jobs?q=data+science&l=Washington+DC&start=30\n"
     ]
    }
   ],
   "source": [
    "\n",
    "main()"
   ]
  },
  {
   "cell_type": "code",
   "execution_count": null,
   "id": "71985735",
   "metadata": {},
   "outputs": [],
   "source": []
  },
  {
   "cell_type": "code",
   "execution_count": null,
   "id": "4d267cdf",
   "metadata": {},
   "outputs": [],
   "source": []
  },
  {
   "cell_type": "code",
   "execution_count": null,
   "id": "1d9d4e4b",
   "metadata": {},
   "outputs": [],
   "source": []
  }
 ],
 "metadata": {
  "kernelspec": {
   "display_name": "Python 3",
   "language": "python",
   "name": "python3"
  },
  "language_info": {
   "codemirror_mode": {
    "name": "ipython",
    "version": 3
   },
   "file_extension": ".py",
   "mimetype": "text/x-python",
   "name": "python",
   "nbconvert_exporter": "python",
   "pygments_lexer": "ipython3",
   "version": "3.7.9"
  }
 },
 "nbformat": 4,
 "nbformat_minor": 5
}
