{
 "cells": [
  {
   "cell_type": "code",
   "execution_count": 1,
   "id": "f6e128fa",
   "metadata": {},
   "outputs": [],
   "source": [
    "import json\n",
    "import re\n",
    "import os\n",
    "\n",
    "import ssl\n",
    "from urllib.request import Request, urlopen\n",
    "\n",
    "from bs4 import BeautifulSoup as bs\n",
    "BASE_URL = \"https://www.google.com/\""
   ]
  },
  {
   "cell_type": "code",
   "execution_count": 3,
   "id": "17c26322",
   "metadata": {},
   "outputs": [],
   "source": [
    "#ignore ssl certificate errors\n",
    "ctx = ssl.create_default_context()\n",
    "ctx.check_hostname = False\n",
    "ctx.verify_mode = ssl.CERT_NONE\n",
    "\n",
    "dir_path = os.path.dirname(os.path.realpath(\"__file__\"))"
   ]
  },
  {
   "cell_type": "code",
   "execution_count": 17,
   "id": "dd0ccecb",
   "metadata": {},
   "outputs": [],
   "source": [
    "def main():\n",
    "    name_of_city = \"New York City\"\n",
    "    keywords = \"data science\"\n",
    "    number_of_pages = 5\n",
    "\n",
    "    #Preprocess data\n",
    "    name_of_city = name_of_city.replace(\" \", \"+\")\n",
    "    keywords = keywords.replace(\" \", \"+\")\n",
    "    number_of_pages = int(number_of_pages)\n",
    "\n",
    "    url_to_scrape = BASE_URL + f\"/search?client=firefox-b-1-d&q={keywords}+{name_of_city}&ibp=htl;jobs&sa=X&ved=2ahUKEwiV44WzwK7xAhXzF1kFHYlkAugQutcGKAF6BAgSEAo#htivrt=jobs&htidocid=On\"\n",
    "    req = Request(url_to_scrape, headers= {'User-Agent': 'Mozilla/5.0'})\n",
    "    web_page = urlopen(req).read()\n",
    "    data_raw = bs(web_page, 'html.parser')\n",
    "    print(data_raw)\n",
    "    #data_collected = scrape_data(url_to_scrape, number_of_pages)"
   ]
  },
  {
   "cell_type": "code",
   "execution_count": 18,
   "id": "641244d8",
   "metadata": {},
   "outputs": [
    {
     "name": "stdout",
     "output_type": "stream",
     "text": [
      "<!DOCTYPE html>\n",
      "<head><meta charset=\"utf-8\"/><meta content=\"/images/branding/googleg/1x/googleg_standard_color_128dp.png\" itemprop=\"image\"/><title>Jobs</title><script nonce=\"SmJXcc940PTAhmguvLylwA==\">(function(){window.google={kEI:'Go_TYKTvCqmm0PEPwOS5gAg'};google.sn='web';google.kHL='en';})();(function(){\n",
      "var f=this||self;var h,k=[];function l(a){for(var b;a&&(!a.getAttribute||!(b=a.getAttribute(\"eid\")));)a=a.parentNode;return b||h}function m(a){for(var b=null;a&&(!a.getAttribute||!(b=a.getAttribute(\"leid\")));)a=a.parentNode;return b}\n",
      "function n(a,b,c,d,g){var e=\"\";c||-1!==b.search(\"&ei=\")||(e=\"&ei=\"+l(d),-1===b.search(\"&lei=\")&&(d=m(d))&&(e+=\"&lei=\"+d));d=\"\";!c&&f._cshid&&-1===b.search(\"&cshid=\")&&\"slh\"!==a&&(d=\"&cshid=\"+f._cshid);c=c||\"/\"+(g||\"gen_204\")+\"?atyp=i&ct=\"+a+\"&cad=\"+b+e+\"&zx=\"+Date.now()+d;/^http:/i.test(c)&&\"https:\"===window.location.protocol&&(google.ml&&google.ml(Error(\"a\"),!1,{src:c,glmm:1}),c=\"\");return c};h=google.kEI;google.getEI=l;google.getLEI=m;google.ml=function(){return null};google.log=function(a,b,c,d,g){if(c=n(a,b,c,d,g)){a=new Image;var e=k.length;k[e]=a;a.onerror=a.onload=a.onabort=function(){delete k[e]};a.src=c}};google.logUrl=n;}).call(this);google.f={};(function(){\n",
      "document.documentElement.addEventListener(\"submit\",function(b){var a;if(a=b.target){var c=a.getAttribute(\"data-submitfalse\");a=\"1\"==c||\"q\"==c&&!a.elements.q.value?!0:!1}else a=!1;a&&(b.preventDefault(),b.stopPropagation())},!0);document.documentElement.addEventListener(\"click\",function(b){var a;a:{for(a=b.target;a&&a!=document.documentElement;a=a.parentElement)if(\"A\"==a.tagName){a=\"1\"==a.getAttribute(\"data-nohref\");break a}a=!1}a&&b.preventDefault()},!0);}).call(this);(function(){\n",
      "var a=window.performance;window.start=Date.now();a:{var b=window;if(a){var c=a.timing;if(c){var d=c.navigationStart,f=c.responseStart;if(f>d&&f<=window.start){window.start=f;b.wsrt=f-d;break a}}a.now&&(b.wsrt=Math.floor(a.now()))}}window.google=window.google||{};var h=function(g){g&&g.target.setAttribute(\"data-iml\",Date.now())};document.documentElement.addEventListener(\"load\",h,!0);google.rglh=function(){document.documentElement.removeEventListener(\"load\",h,!0)};}).call(this);(function(){\n",
      "var b=[function(){google.tick&&google.tick(\"load\",\"dcl\")}];google.dclc=function(a){b.length?b.push(a):a()};function c(){for(var a;a=b.shift();)a()}window.addEventListener?(document.addEventListener(\"DOMContentLoaded\",c,!1),window.addEventListener(\"load\",c,!1)):window.attachEvent&&window.attachEvent(\"onload\",c);}).call(this);</script><style>html,body,h1{font-family:Roboto,Helvetica Neue,Arial,sans-serif}body,h1{font-family:Roboto,Helvetica Neue,Arial,sans-serif;font-size:small;}h3{font-size:medium;font-weight:normal;margin:0;padding:0}body{margin:0;background:#fff;color:#3c4043;}a{color:#1967D2;text-decoration:none;-webkit-tap-highlight-color:rgba(0,0,0,.10)}a,cite{font-family:Roboto,Helvetica Neue,Arial,sans-serif !important;font-weight:inherit}a:visited{color:#4B11A8}cite,cite a:link,cite a:visited{color:#006621;font-style:normal}button{margin:0}ol li{list-style:none}ol,ul,li{margin:0;padding:0}em{font-weight:bold;font-style:normal}.aCOpRe em,.st em{color:#3c4043;}.aCOpRe a em,.st a em{color:inherit}.UmPJJf{color:#202124;font-weight:400;line-height:21px;overflow:hidden;text-overflow:ellipsis;white-space:nowrap}a.UmPJJf{color:#1967D2}.bOFGdf{font-family:Roboto,Helvetica Neue,Arial,sans-serif;color:#202124;font-weight:400;line-height:21px}.bOFGdf a{color:inherit}.feGi6e{border-top:1px solid #ebebeb;padding:20px 16px;display:block}.V5niGc{border-bottom:1px solid #ebebeb;display:block;padding:20px 16px;}.card-section{display:block;margin:0;padding:0px 16px 0px}.card-section~.card-section:not(.rQUFld){border-top:1px solid #ebebeb}.card:not(:empty),.mnr-c:not(:empty){background-color:#fff;margin:0 0 16px 0;overflow:hidden;box-shadow:0 1px 6px rgba(32, 33, 36, 0.28);border-radius:8px}.mnr-c .mnr-c{background-color:transparent;box-shadow:none}.card .card,.mnr-c .mnr-c{margin-bottom:0 !important}.fp-i .SzDvzc{display:none}.fp-f{bottom:0;height:auto;left:0;position:fixed !important;right:0;top:0;width:auto;z-index:127}.fp-h:not(.fp-nh):not(.goog-modalpopup-bg):not(.goog-modalpopup){display:none !important}.fp-zh.fp-h:not(.fp-nh):not(.goog-modalpopup-bg):not(.goog-modalpopup){display:block !important;height:0;overflow:hidden;transform:translate3d(0,0,0);transform:translate3d(0,0,0)}.fp-i .fp-c{display:block;min-height:100vh}li.fp-c{list-style:none}.fp-w{box-sizing:border-box;left:0;margin-left:auto;margin-right:auto;max-width:1197px;right:0}.WqQeqc{display:inline-block;height:24px;position:relative;width:24px;z-index:0}.WqQeqc span{display:block;background-color:currentColor;height:100%;mask-size:100% 100%;width:100%;}.di8g3{padding:6px 8px;}.FzvWSb{margin-bottom:5px}.vk_c{position:relative;padding:20px 16px 24px;}#rhs .fIcnad{border:none;margin-left:0}.vk_c,#rhs .fIcnad{border-radius:8px;border:none;box-shadow:0px 1px 4px 0px rgba(0,0,0,0.2)}.vk_c .vk_c{border-radius:0;box-shadow:none;background-color:transparent;border:0;box-shadow:none;margin:0;padding:0;position:static}.vkc_np{margin-left:-16px;margin-right:-16px}.WIDPrb{padding-left:16px}.iiFzhd{padding-right:16px}.vk_arc{border-top:1px solid #ebebeb;cursor:pointer;height:0;margin-bottom:-23px;overflow:hidden;padding:20px 0;text-align:center}.vk_ard{top:-11px}.vk_aru{bottom:-6px}.vk_ard,.vk_aru{background-color:#DFE1E5;margin-left:auto;margin-right:auto;position:relative;height:6px;width:64px}.vk_ard:after,.vk_ard:before,.vk_aru:after,.vk_aru:before{content:' ';height:0;left:0;position:absolute;width:0;border-left:32px solid rgba(255,255,255,0);border-right:32px solid rgba(255,255,255,0)}.vk_ard:before{border-top:16px solid #DFE1E5;top:6px}.vk_aru:before{border-bottom:16px solid #DFE1E5;bottom:6px}.vk_ard:after{top:0;border-top:16px solid #fff}.vk_aru:after{bottom:0;border-bottom:16px solid #fff}.jC7Epd.vk_ard,.jC7Epd.vk_aru{background-color:#202124}.jC7Epd.vk_ard:before{border-top-color:#202124}.jC7Epd.vk_aru:before{border-bottom-color:#202124}.xpdclps,.xpdxpnd{overflow:hidden}.xpdclps,.xpdxpnd{transition:max-height 0.3s}.xpdxpnd,.xpdopen .xpdclps,.xpdopen .xpdxpnd.xpdnoxpnd{max-height:0}.xpdopen .xpdxpnd{max-height:none}.xpdopen .xpdbox .xpdxpnd,.xpdopen .xpdbox.xpdopen .xpdclps{max-height:0}.xpdopen .xpdbox.xpdopen .xpdxpnd,.xpdopen .xpdbox .xpdclps{max-height:none}.xpdclose .k5nfEc{display:none}.vk_gbt{border-top:1px solid #ebebeb}.vk_spc{height:16px;width:100%}.pVFdhc{background-color:#ebebeb;height:1px}.vk_tbl{border-collapse:collapse}.vk_tbl td{padding:0}.ChOqnd,.ChOqnd a{color:#70757a !important;text-decoration:none}.ChOqnd a:hover{text-decoration:underline}.ChOqnd{font-size:11px !important;font-family:arial,sans-serif-medium,sans-serif}.vk_c a{text-decoration:none}.vk_gn{color:#1e8e3e !important}.vk_rd{color:#ea4335 !important}.vk_gy{color:#70757a !important}.vk_bk{color:#202124}.dDoNo{font-weight:lighter !important;}.vk_h{font-weight:lighter !important;}.vk_sh{font-weight:lighter !important;}.Uekwlc{font-weight:lighter !important;}.dDoNo,.vk_h,.vk_sh,.Uekwlc{font-family:arial,sans-serif-light,sans-serif}@-webkit-keyframes qs-timer {0%{}}.srp{background-color:#fff}#cnt{overflow-x:hidden;margin-top:-10px;padding-top:10px}.center_col{padding:0 8px 0}[data-hveid]{tap-highlight-color:rgba(0,0,0,.00)}body.qs-l{overflow:hidden}.eSybAd{transform:translate3d(0,0,0)}.ellip{overflow:hidden;text-overflow:ellipsis;white-space:nowrap}.zbA8Me{font-weight:bold;font-size:12px;line-height:12px;letter-spacing:0.3px;text-transform:uppercase}#rso h3,#topstuff h3{font-size:}#rso,#topstuff{font-size:medium}#botstuff,#taw,#bottomads{font-size:14px}.GLcBOb{color:#70757a;font-size:small;position:relative;z-index:126}#hdtb-msb{position:relative;white-space:nowrap;}.hdtb-mitem .GOE98c,.hdtb-mitem a,.hdtb-mitem.hdtb-msel,.t2vtad{color:#70757a;text-decoration:none;display:inline-block;padding:8px 16px 8px 16px;margin:0 5px;padding:0 5px;}.hdtb-mitem{display:inline-block}.hdtb-mitem a:active{color:#dd4b39}.hdtb-mitem:first-child{margin-left:6px}.hdtb-mitem:first-child.hdtb-msel{margin-left:13px}.hdtb-mitem.hdtb-msel{border-bottom:3px solid #dd4b39;color:#dd4b39;font-weight:bold;}.hdtb-mitem.hdtb-msel:hover{cursor:pointer}.hdtb-mitem.hdtb-msel:active{background:none}.hdtb-mitem a{color:#70757a}.t2vtad{border:1px solid transparent;text-align:center;border-radius:2px;line-height:19px;cursor:pointer;margin-left:-1px;padding:4px 15px;}[dir='ltr'],[dir='rtl']{unicode-bidi:isolate;unicode-bidi:isolate}bdo[dir='ltr'],bdo[dir='rtl']{unicode-bidi:bidi-override;unicode-bidi:isolate-override;unicode-bidi:isolate-override}</style></head><body jsmodel=\"TvHxbe\"><style>html,body{font-family:Roboto,Helvetica Neue,Arial,sans-serif;height:100%}</style><div jsdata=\"ALusFc;_;B/Ikbk\" jsmodel=\"uIhXXc\"><div><style>.w43NHb{background-color:#f8f9fa;height:100%;position:absolute;width:100%;display:flex;justify-content:center;flex-direction:column}.qDdeqd{flex:1}.diIKdd{flex:2;text-align:center}.SC3FEd{padding-top:34px;font-size:18px;font-weight:medium;color:rgba(0,0,0,.87)}.oLm9bf{padding-top:28px;vertical-align:middle;font-size:14px;font-weight:medium;color:#1a73e8}.oLm9bf a{text-decoration:none;text-transform:uppercase}.oLm9bf a:visited{color:#1a73e8}</style><div class=\"w43NHb\"><div class=\"qDdeqd\"></div><div class=\"diIKdd\"><div><img alt=\"\" src=\"data:image/png;base64,iVBORw0KGgoAAAANSUhEUgAAAEcAAABEBAMAAAAhCjWCAAAAFVBMVEVMaXEAAAAAAAAAAAAAAAAAAAAAAACpf3wfAAAAB3RSTlMAFjNMCD8iNAUUbQAAASxJREFUeAHl0jFTgzAYxvEHjJ2p9TpTuHPWPKVz76zOXFOdAdHv/xEEDDUCLxlcPPubMvzv3lzywhWktDaQKMOzEwRP/JbthSilIxam0bXFpAVdO0wK6dJyVB86b7NRgc4/im5evhiS4+Mxst8qs1+t6LMFrumTtXf0KpDSK4eh1z1I7paydR9tIVMXFgVJjZaqNnJkyMLuXC5FIckHAAFJLUWPJLWNuReiFRsArtiIZqIMdg+j34wL7VnNXRwpGdm5sRgFVf+Y5UXuk6UOB0+0Tgwbx7tIjNYpz2w2jNQ7XVk9ESnDgdM4WtDKaGkh0uUtALWs5EjX6KlKiF73cDybqWiDn4JkHCkMqT+/KjqZ0UWGXjlSesVY0StCSB8N+OfFziJJdmgFH3NKAJ9bpvgbi3fnBAAAAABJRU5ErkJggg==\"/></div><div class=\"SC3FEd\">Oops, your browser, device, and/or location is not yet supported.</div><div class=\"oLm9bf\"><a href=\"https://www.google.com/\">Go to Google</a></div></div></div></div></div><textarea class=\"csi\" name=\"csi\" style=\"display:none\"></textarea><script nonce=\"SmJXcc940PTAhmguvLylwA==\">(function(){var e='Go_TYKTvCqmm0PEPwOS5gAg';var sn='web';var ili=true;(function(){\n",
      "function y(a){if(!a||z(a))return 0;if(!a.getBoundingClientRect)return 1;var c=function(b){return b.getBoundingClientRect()};return A(a,c)?0:I(a,c)}function A(a,c){var b;a:{for(b=a;b&&null!==b;b=b.parentElement)if(\"hidden\"===b.style.overflow)break a;b=null}if(!b)return!1;a=c(a);c=c(b);return a.bottom<c.top||a.top>=c.bottom||a.right<c.left||a.left>=c.right}\n",
      "function z(a){return\"none\"===a.style.display?!0:document.defaultView&&document.defaultView.getComputedStyle?(a=document.defaultView.getComputedStyle(a),!!a&&(\"hidden\"===a.visibility||\"0px\"===a.height&&\"0px\"===a.width)):!1}\n",
      "function I(a,c){var b=c(a);a=b.left+window.pageXOffset;c=b.top+window.pageYOffset;var f=b.width;b=b.height;var g=0;if(0>=b&&0>=f)return g;var n=window.innerHeight||document.documentElement.clientHeight;0>c+b?g=2:c>=n&&(g=4);if(0>a+f||a>=(window.innerWidth||document.documentElement.clientWidth))g|=8;g||(g=1,c+b>n&&(g|=4));return g};var J=e,K=sn,L=[];function M(a,c,b){a=\"/gen_204?atyp=csi&s=\"+(K||\"web\")+\"&t=\"+a+(\"&lite=1&ei=\"+J+\"&conn=\"+(window.navigator&&window.navigator.connection?window.navigator.connection.type:-1)+c);c=\"&rt=\";for(var f in b)a+=\"\"+c+f+\".\"+b[f],c=\",\";return a}function N(a){a={prt:a};window.wsrt&&(a.wsrt=window.wsrt);return a}function O(a){window.ping?window.ping(a):(new Image).src=a}\n",
      "(function(){for(var a=(new Date).getTime()-window.start,c=N(a),b=0,f=0,g=0,n=document.getElementsByTagName(\"img\"),q=\"&imn=\"+n.length+\"&biw=\"+window.innerWidth+\"&bih=\"+window.innerHeight,P=function(h,r){h.onload=function(){f=(new Date).getTime()-window.start;r&&++u==g&&(b=f,B());h.onload=null}},B=function(){q+=\"&ima=\"+g;c.aft=b;O(M(\"aft\",q,c))},u=0,Q=0,d=void 0;d=n[Q++];){var t=y(d),p=!!(t&1);p&&++g;var m=d.hasAttribute(\"data-ilite\"),v=d.hasAttribute(\"data-deferred\")||m,C=d.getAttribute(\"data-src\")||\n",
      "d.getAttribute(\"data-lzysrc\"),D=!v&&C;L.push([t,v,D,google.ldi&&d.id&&google.ldi[d.id]||m&&C]);m=(t=d.complete&&(m||!v&&!(ili&&p&&D)))&&Number(d.getAttribute(\"data-iml\"))||0;t&&m?(p&&++u,m&&(d=m-window.start,p&&(b=Math.max(b,d)),f=Math.max(f,d))):P(d,p)}b||(b=a);f||(f=b);u==g&&B();google.rglh&&google.rglh();window.addEventListener(\"load\",function(){window.setTimeout(function(){c.ol=(new Date).getTime()-window.start;c.iml=f;var h=window.performance&&window.performance.timing;h&&(c.rqst=h.responseEnd-\n",
      "h.requestStart,c.rspt=h.responseEnd-h.responseStart);for(var r=h=0,E=0,F=0,G=0,R=0,k;k=L[R++];){var l=k[0],w=k[1],S=k[2];k=k[3];var T=0==l,x=l&8,H=l&4;l=1==l||2==l||x&&!H;!l||x||w&&!k||++E;w&&(l&&k&&++h,H&&!k&&++r);T||x?S||++G:w||++F}q+=\"&ime=\"+E+(\"&imex=\"+F+\"&imeh=\"+G)+(\"&imea=\"+h+\"&imeb=\"+r);O(M(\"all\",q,c))},0)},!1)})();}).call(this);})();</script><script nonce=\"SmJXcc940PTAhmguvLylwA==\">(function(){google.llirm='0px';google.ldi={};google.pim={};})();google.x(null, function(){(function(){(function(){google.csct={};google.csct.ps='AOvVaw26H0CbY1aSYSPyPwFPnoap\\x26ust\\x3d1624563866195935';})();})();(function(){(function(){google.csct.rd=true;})();})();});google.drty&&google.drty();</script></body>\n"
     ]
    }
   ],
   "source": [
    "main()"
   ]
  },
  {
   "cell_type": "code",
   "execution_count": null,
   "id": "1c27765d",
   "metadata": {},
   "outputs": [],
   "source": []
  }
 ],
 "metadata": {
  "kernelspec": {
   "display_name": "Python 3",
   "language": "python",
   "name": "python3"
  },
  "language_info": {
   "codemirror_mode": {
    "name": "ipython",
    "version": 3
   },
   "file_extension": ".py",
   "mimetype": "text/x-python",
   "name": "python",
   "nbconvert_exporter": "python",
   "pygments_lexer": "ipython3",
   "version": "3.7.9"
  }
 },
 "nbformat": 4,
 "nbformat_minor": 5
}
