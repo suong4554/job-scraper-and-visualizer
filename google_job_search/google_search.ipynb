{
 "cells": [
  {
   "cell_type": "code",
   "execution_count": 1,
   "id": "64911257",
   "metadata": {},
   "outputs": [],
   "source": [
    "import json\n",
    "import re\n",
    "import os\n",
    "\n",
    "import ssl\n",
    "from urllib.request import Request, urlopen\n",
    "\n",
    "from bs4 import BeautifulSoup as bs\n",
    "BASE_URL = \"https://www.google.com/\""
   ]
  },
  {
   "cell_type": "code",
   "execution_count": 3,
   "id": "0f89a0ba",
   "metadata": {},
   "outputs": [],
   "source": [
    "#ignore ssl certificate errors\n",
    "ctx = ssl.create_default_context()\n",
    "ctx.check_hostname = False\n",
    "ctx.verify_mode = ssl.CERT_NONE\n",
    "\n",
    "dir_path = os.path.dirname(os.path.realpath(\"__file__\"))"
   ]
  },
  {
   "cell_type": "code",
   "execution_count": 21,
   "id": "a25f930e",
   "metadata": {},
   "outputs": [],
   "source": [
    "def main():\n",
    "    name_of_city = \"New York City\"\n",
    "    keywords = \"data science\"\n",
    "    number_of_pages = 5\n",
    "\n",
    "    #Preprocess data\n",
    "    name_of_city = name_of_city.replace(\" \", \"+\")\n",
    "    keywords = keywords.replace(\" \", \"+\")\n",
    "    number_of_pages = int(number_of_pages)\n",
    "\n",
    "    url_to_scrape = BASE_URL + f\"/search?client=firefox-b-1-d&q={keywords}+{name_of_city}&ibp=htl;jobs&sa=X&ved=2ahUKEwiV44WzwK7xAhXzF1kFHYlkAugQutcGKAF6BAgSEAo#htivrt=jobs&htidocid=On\"\n",
    "    req = Request(url_to_scrape, headers= {'User-Agent': 'Mozilla/5.0'})\n",
    "    web_page = urlopen(req).read()\n",
    "    data_raw = bs(web_page, 'html.parser')\n",
    "    if \"Sigma\" in data_raw:\n",
    "        print(\"hello\")\n",
    "    #print(data_raw)\n",
    "    #data_collected = scrape_data(url_to_scrape, number_of_pages)"
   ]
  },
  {
   "cell_type": "code",
   "execution_count": 22,
   "id": "e0f4dc32",
   "metadata": {},
   "outputs": [],
   "source": [
    "main()"
   ]
  },
  {
   "cell_type": "code",
   "execution_count": null,
   "id": "92b607d6",
   "metadata": {},
   "outputs": [],
   "source": []
  }
 ],
 "metadata": {
  "kernelspec": {
   "display_name": "Python 3",
   "language": "python",
   "name": "python3"
  },
  "language_info": {
   "codemirror_mode": {
    "name": "ipython",
    "version": 3
   },
   "file_extension": ".py",
   "mimetype": "text/x-python",
   "name": "python",
   "nbconvert_exporter": "python",
   "pygments_lexer": "ipython3",
   "version": "3.7.9"
  }
 },
 "nbformat": 4,
 "nbformat_minor": 5
}
